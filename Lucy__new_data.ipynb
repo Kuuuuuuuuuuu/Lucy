{
 "cells": [
  {
   "cell_type": "code",
   "execution_count": null,
   "metadata": {},
   "outputs": [],
   "source": [
    "df02.nunique() # 컬럼별 고유 값 개수\n",
    "df02.nunique(dropna = False) # 고유 값 - 결측치 값\n",
    "#df02 = df02[['label', 'Q', 'A']] # 열(컬럼) 순서 변경\n",
    "#df02 = df02.columns['ldf', 'fds', 'qew']\n",
    "df02.columns = ['구분', '유저', '챗봇'] # 이름 변경\n",
    "df02.head() # 출력시 NaN 값이 있음. 출력이 불가하니 제거\n",
    "#df.isnull().sum() # 컬럼별 null 값 확인"
   ]
  },
  {
   "cell_type": "code",
   "execution_count": null,
   "metadata": {},
   "outputs": [],
   "source": [
    "df02.nunique() # 컬럼별 고유 값 개수\n",
    "df02.nunique(dropna = False) # 고유 값 - 결측치 값\n",
    "#df02 = df02[['label', 'Q', 'A']] # 열(컬럼) 순서 변경\n",
    "#df02 = df02.columns['ldf', 'fds', 'qew']\n",
    "df02.columns = ['구분', '유저', '챗봇'] # 이름 변경\n",
    "df02.head() # 출력시 NaN 값이 있음. 출력이 불가하니 제거\n",
    "#df.isnull().sum() # 컬럼별 null 값 확인"
   ]
  },
  {
   "cell_type": "markdown",
   "metadata": {},
   "source": [
    "#열 값 대체 df = df.replace({'열 이름' : 기존 값}, 변경 값) 일상다반사 0, 이별(부정) 1, 사랑(긍정) 2 \n",
    "df02 = df02.replace({'구분', 0}, '일상다반사')\n",
    "df02 = df02.replace({'구분', 1}, '이별/부정')\n",
    "df02 = df02.replace({'구분', 2}, '사랑/긍정')\n",
    "df02"
   ]
  },
  {
   "cell_type": "code",
   "execution_count": null,
   "metadata": {},
   "outputs": [],
   "source": [
    "# 가공 데이터셋 저장\n",
    "merge = pd.concat([df01,df02])\n",
    "merge.to_csv('merged_dataset.csv', index=True)"
   ]
  },
  {
   "cell_type": "code",
   "execution_count": null,
   "metadata": {},
   "outputs": [],
   "source": [
    "import pandas as pd\n",
    "from sentence_transformers import SentenceTransformer\n",
    "from sklearn.metrics.pairwise import cosine_similarity\n",
    "import seaborn as sns\n",
    "import matplotlib.pyplot as plt\n",
    "import jsonlines\n",
    "import json\n",
    "\n",
    "df01 = pd.read_excel('C:/Users/konyang/Desktop/Ku/kuu/lucy/talk_script/talk_script01.xlsx')\n",
    "df02 = pd.read_csv('C:/Users/konyang/Desktop/Ku/kuu/lucy/ChatbotData.csv')\n",
    "\n",
    "df01.nunique() # 컬럼별 고유 값 개수\n",
    "df01.nunique(dropna = False) # 고유 값 - 결측치 값\n",
    "df01.head()\n",
    "df01 = df01.dropna(axis = 0) # 출력시 NaN 값이 있음. 출력이 불가하니 제거\n",
    "df01.head()\n",
    "#df.isnull().sum() # 컬럼별 null 값 확인\n",
    "\n",
    "df02.nunique() # 컬럼별 고유 값 개수\n",
    "df02.nunique(dropna = False) # 고유 값 - 결측치 값\n",
    "#df02 = df02[['label', 'Q', 'A']] # 열(컬럼) 순서 변경\n",
    "#df02 = df02.columns['ldf', 'fds', 'qew']\n",
    "df02.columns = ['구분', '유저', '챗봇'] # 이름 변경\n",
    "df02.head() # 출력시 NaN 값이 있음. 출력이 불가하니 제거\n",
    "#df.isnull().sum() # 컬럼별 null 값 확인\n",
    "\n",
    "#열 값 대체 df = df.replace({'열 이름' : 기존 값}, 변경 값) 일상다반사 0, 이별(부정) 1, 사랑(긍정) 2 \n",
    "df02 = df02.replace({'구분', 0}, '일상다반사')\n",
    "df02 = df02.replace({'구분', 1}, '이별/부정')\n",
    "df02 = df02.replace({'구분', 2}, '사랑/긍정')\n",
    "df02\n",
    "\n",
    "#구분 열 항목 확인\n",
    "cell_line = df01['구분'].values\n",
    "df01['구분'].value_counts()\n",
    "df01['구분'].unique()\n",
    "\n",
    "# 가공 데이터셋 저장\n",
    "merge = pd.concat([df01,df02])\n",
    "merge.to_csv('merged_dataset.csv', index=True)"
   ]
  }
 ],
 "metadata": {
  "language_info": {
   "name": "python"
  }
 },
 "nbformat": 4,
 "nbformat_minor": 2
}
