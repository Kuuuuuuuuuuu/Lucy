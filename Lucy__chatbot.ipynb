{
 "cells": [
  {
   "cell_type": "code",
   "execution_count": null,
   "metadata": {},
   "outputs": [],
   "source": [
    "import pandas as pd\n",
    "from sentence_transformers import SentenceTransformer\n",
    "from sklearn.metrics.pairwise import cosine_similarity"
   ]
  },
  {
   "cell_type": "code",
   "execution_count": null,
   "metadata": {},
   "outputs": [],
   "source": [
    "#sentenceBert 모델 로드\n",
    "model = SentenceTransformer('jhgan/ko-sroberta-multitask')\n",
    "\n",
    "sentences = [\"안녕하세요?\", \"한국어 문장 임베딩을 위한 버트 모델입니다.\"]\n",
    "embeddings = model.encode(sentences)\n",
    "\n",
    "print(embeddings)"
   ]
  },
  {
   "cell_type": "code",
   "execution_count": null,
   "metadata": {},
   "outputs": [],
   "source": [
    "df = pd.read_excel('C:/Users/konyang/Desktop/Ku/kuu/lucy/talk_script/talk_script01.xlsx')\n",
    "df.nunique() # 컬럼별 고유 값 개수\n",
    "#df.nunique(dropna = False) # 고유 값 - 결측치 값\n",
    "#df.head() # 출력시 NaN 값이 있음. 출력이 불가하니 제거\n",
    "#df.isnull().sum() # 컬럼별 null 값 확인"
   ]
  },
  {
   "cell_type": "code",
   "execution_count": null,
   "metadata": {},
   "outputs": [],
   "source": [
    "df = df.dropna(axis = 0)\n",
    "df.isnull().sum()\n",
    "df.nunique() # 컬럼별 고유 값 개수 여기선 챗봇에 null 값이 많아 거의 4000개의 데이터가 날아갔다..\n",
    "df.head()"
   ]
  },
  {
   "cell_type": "code",
   "execution_count": null,
   "metadata": {},
   "outputs": [],
   "source": [
    "df.loc[0, '유저'] # 행과 열 데이터 출력. 여기선 0번째 행의 '유저' 열 추출"
   ]
  },
  {
   "cell_type": "code",
   "execution_count": null,
   "metadata": {},
   "outputs": [],
   "source": [
    "model.encode(df.loc[0, '유저']) # 위 문장을 벡터화하여 임베딩된 내용"
   ]
  },
  {
   "cell_type": "code",
   "execution_count": null,
   "metadata": {},
   "outputs": [],
   "source": [
    "# 유저 대화내용 전부 판다스의 새로운 데이터프레임에 인코딩\n",
    "df['embedding'] = pd.Series([[]] * len(df))# 임베딩이란 사람이 쓰는 자연어를 기계가 이해할 수 있는 숫자의 나열인 벡터로 바꾸는 과정\n",
    "\n",
    "df['embedding'] = df['유저'].map(lambda x: list(model.encode(x))) # 모든 유저내용 인코딩후 유저의 모든 발화를 모델의 임베딩칼럼에 저장\n",
    "\n",
    "df.head()"
   ]
  },
  {
   "cell_type": "code",
   "execution_count": null,
   "metadata": {},
   "outputs": [],
   "source": [
    "def cosine_similarity(A,B):\n",
    "    return dot(A, B)/(norm(A)*norm(B))"
   ]
  },
  {
   "cell_type": "code",
   "execution_count": null,
   "metadata": {},
   "outputs": [],
   "source": [
    "text = '너한테 욕하면 받아줘?'\n",
    "\n",
    "embedding = model.encode(text)\n",
    "\n",
    "df['distance'] = df['embedding'].map(lambda x: cosine_similarity([embedding], [x]).squeeze()) # 벡터간 코사인 유사도 측정해 가장 근접한 단어 행렬 추출. 입력문장과 임베딩문장간 거리를 비교\n",
    "\n",
    "df.head()"
   ]
  }
 ],
 "metadata": {
  "language_info": {
   "name": "python"
  }
 },
 "nbformat": 4,
 "nbformat_minor": 2
}
